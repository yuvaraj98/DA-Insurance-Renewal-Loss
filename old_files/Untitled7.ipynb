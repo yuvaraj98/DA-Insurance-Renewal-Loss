{
 "cells": [
  {
   "cell_type": "code",
   "execution_count": 3,
   "metadata": {},
   "outputs": [],
   "source": [
    "import pandas as pd\n",
    "import numpy as np\n",
    "from sklearn.cluster import KMeans\n",
    "from sklearn.preprocessing import LabelEncoder\n",
    "from sklearn.preprocessing import MinMaxScaler\n",
    "import seaborn as sns\n",
    "import matplotlib.pyplot as plt\n",
    "%matplotlib inline"
   ]
  },
  {
   "cell_type": "code",
   "execution_count": 4,
   "metadata": {},
   "outputs": [],
   "source": [
    "from sklearn.datasets import make_blobs\n",
    "df_url = \"G:/policy.csv\"\n",
    "df = pd.read_csv(df_url)"
   ]
  },
  {
   "cell_type": "code",
   "execution_count": 5,
   "metadata": {},
   "outputs": [],
   "source": [
    "datasets = make_blobs(n_samples=100, n_features=2, centers= 8 , cluster_std=1.8, random_state=101)"
   ]
  },
  {
   "cell_type": "code",
   "execution_count": 6,
   "metadata": {},
   "outputs": [
    {
     "data": {
      "text/plain": [
       "(100, 2)"
      ]
     },
     "execution_count": 6,
     "metadata": {},
     "output_type": "execute_result"
    }
   ],
   "source": [
    "datasets[0].shape"
   ]
  },
  {
   "cell_type": "code",
   "execution_count": 7,
   "metadata": {},
   "outputs": [
    {
     "name": "stdout",
     "output_type": "stream",
     "text": [
      "***** policy_Set *****\n",
      "   Age Nationality Type of Coverage  No Claim Availed  \\\n",
      "0   30      Indian    Comprehensive                 0   \n",
      "1   19      Indian      Third Party                 2   \n",
      "2   18      Indian    Comprehensive                 1   \n",
      "3   28      Indian    Comprehensive                 0   \n",
      "4   33      Indian    Comprehensive                 0   \n",
      "\n",
      "   Years of Insurance undertaking  Vehicle Age Years  Year of Purchase  \\\n",
      "0                               5                 20              1998   \n",
      "1                               8                 10              2009   \n",
      "2                               2                  5              2014   \n",
      "3                               3                 15              2004   \n",
      "4                               8                 10              2009   \n",
      "\n",
      "  Restricted No. of Drivers  Mileage Kms  Vehicle Power in KW  Annual Premium  \n",
      "0                       yes           16                  800            2000  \n",
      "1                        No           20                  850            5000  \n",
      "2                        No           25                  900           10000  \n",
      "3                       yes           15                  850            2500  \n",
      "4                        No           10                  855            6000  \n",
      "\n",
      "\n"
     ]
    }
   ],
   "source": [
    "print(\"***** policy_Set *****\")\n",
    "print(df.head())\n",
    "print(\"\\n\")"
   ]
  },
  {
   "cell_type": "code",
   "execution_count": 8,
   "metadata": {},
   "outputs": [
    {
     "name": "stdout",
     "output_type": "stream",
     "text": [
      "***** policy_Set *****\n",
      "             Age  No Claim Availed  Years of Insurance undertaking  \\\n",
      "count  28.000000         28.000000                       28.000000   \n",
      "mean   37.321429          0.642857                        6.214286   \n",
      "std    15.138994          0.558721                        3.784541   \n",
      "min    18.000000          0.000000                        0.000000   \n",
      "25%    26.500000          0.000000                        4.000000   \n",
      "50%    32.500000          1.000000                        5.500000   \n",
      "75%    53.000000          1.000000                        8.000000   \n",
      "max    63.000000          2.000000                       19.000000   \n",
      "\n",
      "       Vehicle Age Years  Year of Purchase  Mileage Kms  Vehicle Power in KW  \\\n",
      "count          28.000000         28.000000    28.000000            28.000000   \n",
      "mean            9.392857       2009.571429    17.285714           918.571429   \n",
      "std             5.258780          5.336309     4.454354            70.800413   \n",
      "min             2.000000       1998.000000    10.000000           800.000000   \n",
      "25%             5.000000       2007.750000    15.000000           850.000000   \n",
      "50%             8.000000       2011.000000    16.000000           950.000000   \n",
      "75%            11.250000       2014.000000    20.000000           975.000000   \n",
      "max            20.000000       2017.000000    25.000000          1000.000000   \n",
      "\n",
      "       Annual Premium  \n",
      "count       28.000000  \n",
      "mean      6339.285714  \n",
      "std       2464.764925  \n",
      "min       2000.000000  \n",
      "25%       4500.000000  \n",
      "50%       6250.000000  \n",
      "75%       8250.000000  \n",
      "max      10000.000000  \n",
      "\n",
      "\n"
     ]
    }
   ],
   "source": [
    "print(\"***** policy_Set *****\")\n",
    "print(df.describe())\n",
    "print(\"\\n\")"
   ]
  },
  {
   "cell_type": "code",
   "execution_count": 9,
   "metadata": {},
   "outputs": [
    {
     "name": "stdout",
     "output_type": "stream",
     "text": [
      "['Age' 'Nationality' 'Type of Coverage' 'No Claim Availed'\n",
      " 'Years of Insurance undertaking' 'Vehicle Age Years' 'Year of Purchase'\n",
      " 'Restricted No. of Drivers' 'Mileage Kms' 'Vehicle Power in KW'\n",
      " 'Annual Premium']\n"
     ]
    }
   ],
   "source": [
    "print(df.columns.values)"
   ]
  },
  {
   "cell_type": "code",
   "execution_count": 10,
   "metadata": {},
   "outputs": [
    {
     "data": {
      "text/html": [
       "<div>\n",
       "<style scoped>\n",
       "    .dataframe tbody tr th:only-of-type {\n",
       "        vertical-align: middle;\n",
       "    }\n",
       "\n",
       "    .dataframe tbody tr th {\n",
       "        vertical-align: top;\n",
       "    }\n",
       "\n",
       "    .dataframe thead th {\n",
       "        text-align: right;\n",
       "    }\n",
       "</style>\n",
       "<table border=\"1\" class=\"dataframe\">\n",
       "  <thead>\n",
       "    <tr style=\"text-align: right;\">\n",
       "      <th></th>\n",
       "      <th>Age</th>\n",
       "      <th>Nationality</th>\n",
       "      <th>Type of Coverage</th>\n",
       "      <th>No Claim Availed</th>\n",
       "      <th>Years of Insurance undertaking</th>\n",
       "      <th>Vehicle Age Years</th>\n",
       "      <th>Year of Purchase</th>\n",
       "      <th>Restricted No. of Drivers</th>\n",
       "      <th>Mileage Kms</th>\n",
       "      <th>Vehicle Power in KW</th>\n",
       "      <th>Annual Premium</th>\n",
       "    </tr>\n",
       "  </thead>\n",
       "  <tbody>\n",
       "    <tr>\n",
       "      <th>0</th>\n",
       "      <td>False</td>\n",
       "      <td>False</td>\n",
       "      <td>False</td>\n",
       "      <td>False</td>\n",
       "      <td>False</td>\n",
       "      <td>False</td>\n",
       "      <td>False</td>\n",
       "      <td>False</td>\n",
       "      <td>False</td>\n",
       "      <td>False</td>\n",
       "      <td>False</td>\n",
       "    </tr>\n",
       "    <tr>\n",
       "      <th>1</th>\n",
       "      <td>False</td>\n",
       "      <td>False</td>\n",
       "      <td>False</td>\n",
       "      <td>False</td>\n",
       "      <td>False</td>\n",
       "      <td>False</td>\n",
       "      <td>False</td>\n",
       "      <td>False</td>\n",
       "      <td>False</td>\n",
       "      <td>False</td>\n",
       "      <td>False</td>\n",
       "    </tr>\n",
       "    <tr>\n",
       "      <th>2</th>\n",
       "      <td>False</td>\n",
       "      <td>False</td>\n",
       "      <td>False</td>\n",
       "      <td>False</td>\n",
       "      <td>False</td>\n",
       "      <td>False</td>\n",
       "      <td>False</td>\n",
       "      <td>False</td>\n",
       "      <td>False</td>\n",
       "      <td>False</td>\n",
       "      <td>False</td>\n",
       "    </tr>\n",
       "    <tr>\n",
       "      <th>3</th>\n",
       "      <td>False</td>\n",
       "      <td>False</td>\n",
       "      <td>False</td>\n",
       "      <td>False</td>\n",
       "      <td>False</td>\n",
       "      <td>False</td>\n",
       "      <td>False</td>\n",
       "      <td>False</td>\n",
       "      <td>False</td>\n",
       "      <td>False</td>\n",
       "      <td>False</td>\n",
       "    </tr>\n",
       "    <tr>\n",
       "      <th>4</th>\n",
       "      <td>False</td>\n",
       "      <td>False</td>\n",
       "      <td>False</td>\n",
       "      <td>False</td>\n",
       "      <td>False</td>\n",
       "      <td>False</td>\n",
       "      <td>False</td>\n",
       "      <td>False</td>\n",
       "      <td>False</td>\n",
       "      <td>False</td>\n",
       "      <td>False</td>\n",
       "    </tr>\n",
       "  </tbody>\n",
       "</table>\n",
       "</div>"
      ],
      "text/plain": [
       "     Age  Nationality  Type of Coverage  No Claim Availed  \\\n",
       "0  False        False             False             False   \n",
       "1  False        False             False             False   \n",
       "2  False        False             False             False   \n",
       "3  False        False             False             False   \n",
       "4  False        False             False             False   \n",
       "\n",
       "   Years of Insurance undertaking  Vehicle Age Years  Year of Purchase  \\\n",
       "0                           False              False             False   \n",
       "1                           False              False             False   \n",
       "2                           False              False             False   \n",
       "3                           False              False             False   \n",
       "4                           False              False             False   \n",
       "\n",
       "   Restricted No. of Drivers  Mileage Kms  Vehicle Power in KW  Annual Premium  \n",
       "0                      False        False                False           False  \n",
       "1                      False        False                False           False  \n",
       "2                      False        False                False           False  \n",
       "3                      False        False                False           False  \n",
       "4                      False        False                False           False  "
      ]
     },
     "execution_count": 10,
     "metadata": {},
     "output_type": "execute_result"
    }
   ],
   "source": [
    "df.isna().head()"
   ]
  },
  {
   "cell_type": "code",
   "execution_count": 11,
   "metadata": {},
   "outputs": [
    {
     "name": "stdout",
     "output_type": "stream",
     "text": [
      "*****In the policy set*****\n",
      "Age                               0\n",
      "Nationality                       0\n",
      "Type of Coverage                  0\n",
      "No Claim Availed                  0\n",
      "Years of Insurance undertaking    0\n",
      "Vehicle Age Years                 0\n",
      "Year of Purchase                  0\n",
      "Restricted No. of Drivers         0\n",
      "Mileage Kms                       0\n",
      "Vehicle Power in KW               0\n",
      "Annual Premium                    0\n",
      "dtype: int64\n",
      "\n",
      "\n"
     ]
    }
   ],
   "source": [
    "print(\"*****In the policy set*****\")\n",
    "print(df.isna().sum())\n",
    "print(\"\\n\")"
   ]
  },
  {
   "cell_type": "code",
   "execution_count": 25,
   "metadata": {},
   "outputs": [],
   "source": [
    "df.fillna(df.mean(), inplace=True)"
   ]
  },
  {
   "cell_type": "code",
   "execution_count": 26,
   "metadata": {
    "scrolled": false
   },
   "outputs": [
    {
     "name": "stdout",
     "output_type": "stream",
     "text": [
      "Age                               0\n",
      "Nationality                       0\n",
      "Type of Coverage                  0\n",
      "No Claim Availed                  0\n",
      "Years of Insurance undertaking    0\n",
      "Vehicle Age Years                 0\n",
      "Year of Purchase                  0\n",
      "Restricted No. of Drivers         0\n",
      "Mileage Kms                       0\n",
      "Vehicle Power in KW               0\n",
      "Annual Premium                    0\n",
      "dtype: int64\n"
     ]
    }
   ],
   "source": [
    "print(df.isna().sum())"
   ]
  },
  {
   "cell_type": "code",
   "execution_count": 27,
   "metadata": {},
   "outputs": [
    {
     "data": {
      "text/plain": [
       "0    30\n",
       "1    19\n",
       "2    18\n",
       "3    28\n",
       "4    33\n",
       "Name: Age, dtype: int64"
      ]
     },
     "execution_count": 27,
     "metadata": {},
     "output_type": "execute_result"
    }
   ],
   "source": [
    "df['Age'].head()"
   ]
  },
  {
   "cell_type": "code",
   "execution_count": 28,
   "metadata": {},
   "outputs": [
    {
     "data": {
      "text/html": [
       "<div>\n",
       "<style scoped>\n",
       "    .dataframe tbody tr th:only-of-type {\n",
       "        vertical-align: middle;\n",
       "    }\n",
       "\n",
       "    .dataframe tbody tr th {\n",
       "        vertical-align: top;\n",
       "    }\n",
       "\n",
       "    .dataframe thead th {\n",
       "        text-align: right;\n",
       "    }\n",
       "</style>\n",
       "<table border=\"1\" class=\"dataframe\">\n",
       "  <thead>\n",
       "    <tr style=\"text-align: right;\">\n",
       "      <th></th>\n",
       "      <th>Age</th>\n",
       "      <th>Annual Premium</th>\n",
       "    </tr>\n",
       "  </thead>\n",
       "  <tbody>\n",
       "    <tr>\n",
       "      <th>2</th>\n",
       "      <td>23</td>\n",
       "      <td>9750.000000</td>\n",
       "    </tr>\n",
       "    <tr>\n",
       "      <th>18</th>\n",
       "      <td>63</td>\n",
       "      <td>9500.000000</td>\n",
       "    </tr>\n",
       "    <tr>\n",
       "      <th>7</th>\n",
       "      <td>31</td>\n",
       "      <td>8000.000000</td>\n",
       "    </tr>\n",
       "    <tr>\n",
       "      <th>17</th>\n",
       "      <td>62</td>\n",
       "      <td>8000.000000</td>\n",
       "    </tr>\n",
       "    <tr>\n",
       "      <th>1</th>\n",
       "      <td>19</td>\n",
       "      <td>7000.000000</td>\n",
       "    </tr>\n",
       "    <tr>\n",
       "      <th>16</th>\n",
       "      <td>60</td>\n",
       "      <td>6750.000000</td>\n",
       "    </tr>\n",
       "    <tr>\n",
       "      <th>0</th>\n",
       "      <td>18</td>\n",
       "      <td>6750.000000</td>\n",
       "    </tr>\n",
       "    <tr>\n",
       "      <th>8</th>\n",
       "      <td>32</td>\n",
       "      <td>6500.000000</td>\n",
       "    </tr>\n",
       "    <tr>\n",
       "      <th>3</th>\n",
       "      <td>25</td>\n",
       "      <td>6500.000000</td>\n",
       "    </tr>\n",
       "    <tr>\n",
       "      <th>6</th>\n",
       "      <td>30</td>\n",
       "      <td>6166.666667</td>\n",
       "    </tr>\n",
       "    <tr>\n",
       "      <th>9</th>\n",
       "      <td>33</td>\n",
       "      <td>6000.000000</td>\n",
       "    </tr>\n",
       "    <tr>\n",
       "      <th>11</th>\n",
       "      <td>37</td>\n",
       "      <td>5833.333333</td>\n",
       "    </tr>\n",
       "    <tr>\n",
       "      <th>13</th>\n",
       "      <td>52</td>\n",
       "      <td>5500.000000</td>\n",
       "    </tr>\n",
       "    <tr>\n",
       "      <th>14</th>\n",
       "      <td>56</td>\n",
       "      <td>5500.000000</td>\n",
       "    </tr>\n",
       "    <tr>\n",
       "      <th>15</th>\n",
       "      <td>59</td>\n",
       "      <td>5500.000000</td>\n",
       "    </tr>\n",
       "    <tr>\n",
       "      <th>10</th>\n",
       "      <td>34</td>\n",
       "      <td>5000.000000</td>\n",
       "    </tr>\n",
       "    <tr>\n",
       "      <th>4</th>\n",
       "      <td>27</td>\n",
       "      <td>4000.000000</td>\n",
       "    </tr>\n",
       "    <tr>\n",
       "      <th>12</th>\n",
       "      <td>46</td>\n",
       "      <td>3000.000000</td>\n",
       "    </tr>\n",
       "    <tr>\n",
       "      <th>5</th>\n",
       "      <td>28</td>\n",
       "      <td>2500.000000</td>\n",
       "    </tr>\n",
       "  </tbody>\n",
       "</table>\n",
       "</div>"
      ],
      "text/plain": [
       "    Age  Annual Premium\n",
       "2    23     9750.000000\n",
       "18   63     9500.000000\n",
       "7    31     8000.000000\n",
       "17   62     8000.000000\n",
       "1    19     7000.000000\n",
       "16   60     6750.000000\n",
       "0    18     6750.000000\n",
       "8    32     6500.000000\n",
       "3    25     6500.000000\n",
       "6    30     6166.666667\n",
       "9    33     6000.000000\n",
       "11   37     5833.333333\n",
       "13   52     5500.000000\n",
       "14   56     5500.000000\n",
       "15   59     5500.000000\n",
       "10   34     5000.000000\n",
       "4    27     4000.000000\n",
       "12   46     3000.000000\n",
       "5    28     2500.000000"
      ]
     },
     "execution_count": 28,
     "metadata": {},
     "output_type": "execute_result"
    }
   ],
   "source": [
    "df[['Age', 'Annual Premium']].groupby(['Age'], as_index=False).mean().sort_values(by='Annual Premium', ascending=False)"
   ]
  },
  {
   "cell_type": "code",
   "execution_count": 29,
   "metadata": {},
   "outputs": [
    {
     "data": {
      "text/plain": [
       "<seaborn.axisgrid.FacetGrid at 0x255dadaba20>"
      ]
     },
     "execution_count": 29,
     "metadata": {},
     "output_type": "execute_result"
    },
    {
     "data": {
      "image/png": "[encoded data removed]",
      "text/plain": [
       "<Figure size 3240x216 with 15 Axes>"
      ]
     },
     "metadata": {
      "needs_background": "light"
     },
     "output_type": "display_data"
    }
   ],
   "source": [
    "g = sns.FacetGrid(df, col='Annual Premium')\n",
    "g.map(plt.hist, 'Age', bins=80)"
   ]
  },
  {
   "cell_type": "code",
   "execution_count": 32,
   "metadata": {},
   "outputs": [
    {
     "name": "stderr",
     "output_type": "stream",
     "text": [
      "C:\\Users\\vineetha\\Anaconda3\\lib\\site-packages\\seaborn\\axisgrid.py:230: UserWarning: The `size` paramter has been renamed to `height`; please update your code.\n",
      "  warnings.warn(msg, UserWarning)\n"
     ]
    },
    {
     "data": {
      "image/png": "[encoded data removed]",
      "text/plain": [
       "<Figure size 3809.6x316.8 with 30 Axes>"
      ]
     },
     "metadata": {
      "needs_background": "light"
     },
     "output_type": "display_data"
    }
   ],
   "source": [
    "grid = sns.FacetGrid(df, col='Annual Premium', row='Type of Coverage', size=2.2, aspect=1.6)\n",
    "grid.map(plt.hist, 'Age', alpha=.5, bins=20)\n",
    "grid.add_legend();"
   ]
  },
  {
   "cell_type": "code",
   "execution_count": 33,
   "metadata": {},
   "outputs": [
    {
     "data": {
      "text/plain": [
       "<matplotlib.collections.PathCollection at 0x255dd2956a0>"
      ]
     },
     "execution_count": 33,
     "metadata": {},
     "output_type": "execute_result"
    },
    {
     "data": {
      "image/png": "[encoded data removed]",
      "text/plain": [
       "<Figure size 432x288 with 1 Axes>"
      ]
     },
     "metadata": {
      "needs_background": "light"
     },
     "output_type": "display_data"
    }
   ],
   "source": [
    "plt.scatter(datasets[0][:,0],datasets[0][:,1],c=datasets[1],cmap='rainbow')\n"
   ]
  },
  {
   "cell_type": "code",
   "execution_count": 34,
   "metadata": {},
   "outputs": [],
   "source": [
    "df = df.drop(['Age','Type of Coverage', 'Vehicle Age Years','Year of Purchase'], axis=1)"
   ]
  },
  {
   "cell_type": "code",
   "execution_count": 38,
   "metadata": {},
   "outputs": [],
   "source": [
    "labelEncoder = LabelEncoder()\n",
    "labelEncoder.fit(df['Nationality'])\n",
    "df['Nationality'] = labelEncoder.transform(df['Nationality'])"
   ]
  },
  {
   "cell_type": "code",
   "execution_count": 39,
   "metadata": {},
   "outputs": [
    {
     "name": "stdout",
     "output_type": "stream",
     "text": [
      "<class 'pandas.core.frame.DataFrame'>\n",
      "RangeIndex: 28 entries, 0 to 27\n",
      "Data columns (total 7 columns):\n",
      "Nationality                       28 non-null int32\n",
      "No Claim Availed                  28 non-null int64\n",
      "Years of Insurance undertaking    28 non-null int64\n",
      "Restricted No. of Drivers         28 non-null object\n",
      "Mileage Kms                       28 non-null int64\n",
      "Vehicle Power in KW               28 non-null int64\n",
      "Annual Premium                    28 non-null int64\n",
      "dtypes: int32(1), int64(5), object(1)\n",
      "memory usage: 1.5+ KB\n"
     ]
    }
   ],
   "source": [
    "df.info()"
   ]
  },
  {
   "cell_type": "code",
   "execution_count": 49,
   "metadata": {},
   "outputs": [],
   "source": [
    "X = np.array(df.drop(['Restricted No. of Drivers'], 1).astype(float))\n",
    "y = np.array(df['Restricted No. of Drivers'])"
   ]
  },
  {
   "cell_type": "code",
   "execution_count": 52,
   "metadata": {},
   "outputs": [
    {
     "name": "stdout",
     "output_type": "stream",
     "text": [
      "<class 'pandas.core.frame.DataFrame'>\n",
      "RangeIndex: 28 entries, 0 to 27\n",
      "Data columns (total 7 columns):\n",
      "Nationality                       28 non-null int32\n",
      "No Claim Availed                  28 non-null int64\n",
      "Years of Insurance undertaking    28 non-null int64\n",
      "Restricted No. of Drivers         28 non-null object\n",
      "Mileage Kms                       28 non-null int64\n",
      "Vehicle Power in KW               28 non-null int64\n",
      "Annual Premium                    28 non-null int64\n",
      "dtypes: int32(1), int64(5), object(1)\n",
      "memory usage: 1.5+ KB\n"
     ]
    }
   ],
   "source": [
    "  df.info()"
   ]
  },
  {
   "cell_type": "code",
   "execution_count": 53,
   "metadata": {},
   "outputs": [
    {
     "data": {
      "text/plain": [
       "KMeans(algorithm='auto', copy_x=True, init='k-means++', max_iter=300,\n",
       "    n_clusters=2, n_init=10, n_jobs=None, precompute_distances='auto',\n",
       "    random_state=None, tol=0.0001, verbose=0)"
      ]
     },
     "execution_count": 53,
     "metadata": {},
     "output_type": "execute_result"
    }
   ],
   "source": [
    "kmeans = KMeans(n_clusters=2) \n",
    "kmeans.fit(X)"
   ]
  },
  {
   "cell_type": "code",
   "execution_count": 54,
   "metadata": {},
   "outputs": [
    {
     "data": {
      "text/plain": [
       "KMeans(algorithm='auto', copy_x=True, init='k-means++', max_iter=300,\n",
       "    n_clusters=2, n_init=10, n_jobs=1, precompute_distances='auto',\n",
       "    random_state=None, tol=0.0001, verbose=0)"
      ]
     },
     "execution_count": 54,
     "metadata": {},
     "output_type": "execute_result"
    }
   ],
   "source": [
    "KMeans(algorithm='auto', copy_x=True, init='k-means++', max_iter=300,\n",
    "    n_clusters=2, n_init=10, n_jobs=1, precompute_distances='auto',\n",
    "    random_state=None, tol=0.0001, verbose=0)"
   ]
  },
  {
   "cell_type": "code",
   "execution_count": 55,
   "metadata": {},
   "outputs": [
    {
     "name": "stdout",
     "output_type": "stream",
     "text": [
      "0.0\n"
     ]
    }
   ],
   "source": [
    "correct = 0\n",
    "for i in range(len(X)):\n",
    "    predict_me = np.array(X[i].astype(float))\n",
    "    predict_me = predict_me.reshape(-1, len(predict_me))\n",
    "    prediction = kmeans.predict(predict_me)\n",
    "    if prediction[0] == y[i]:\n",
    "        correct += 1\n",
    "\n",
    "print(correct/len(X))"
   ]
  },
  {
   "cell_type": "code",
   "execution_count": null,
   "metadata": {},
   "outputs": [],
   "source": [
    "e"
   ]
  }
 ],
 "metadata": {
  "kernelspec": {
   "display_name": "Python 3",
   "language": "python",
   "name": "python3"
  },
  "language_info": {
   "codemirror_mode": {
    "name": "ipython",
    "version": 3
   },
   "file_extension": ".py",
   "mimetype": "text/x-python",
   "name": "python",
   "nbconvert_exporter": "python",
   "pygments_lexer": "ipython3",
   "version": "3.7.1"
  }
 },
 "nbformat": 4,
 "nbformat_minor": 2
}
